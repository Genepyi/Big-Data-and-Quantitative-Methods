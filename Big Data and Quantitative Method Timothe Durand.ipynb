{
 "cells": [
  {
   "cell_type": "markdown",
   "source": [
    "Team project"
   ],
   "metadata": {
    "collapsed": false,
    "pycharm": {
     "name": "#%% md\n"
    }
   }
  },
  {
   "cell_type": "code",
   "execution_count": 1,
   "outputs": [],
   "source": [
    "#Load Libraries\n",
    "import pandas as pd\n",
    "import sqlite3\n",
    "import statsmodels.formula.api as smf\n",
    "from itertools import combinations"
   ],
   "metadata": {
    "collapsed": false,
    "pycharm": {
     "name": "#%%\n"
    }
   }
  },
  {
   "cell_type": "markdown",
   "source": [
    "(12 pts) Q1. Work with the sharing bike dataset: Sharing_Bike.db"
   ],
   "metadata": {
    "collapsed": false,
    "pycharm": {
     "name": "#%% md\n"
    }
   }
  },
  {
   "cell_type": "code",
   "execution_count": 2,
   "outputs": [],
   "source": [
    "# We connect to the database first\n",
    "conn = sqlite3.connect('Sharing_Bike.db')"
   ],
   "metadata": {
    "collapsed": false,
    "pycharm": {
     "name": "#%%\n"
    }
   }
  },
  {
   "cell_type": "markdown",
   "source": [
    "A. (4 pts) Considering the holidays, write a SQL code to calculate the total count of casual users and the\n",
    "total count of registered users in each holiday of 2012."
   ],
   "metadata": {
    "collapsed": false,
    "pycharm": {
     "name": "#%% md\n"
    }
   }
  },
  {
   "cell_type": "code",
   "execution_count": 3,
   "outputs": [
    {
     "data": {
      "text/plain": "    total_casual  total_registered     Holiday\n0            244              1707  2012-01-02\n1            217              2081  2012-01-16\n2            502              2627  2012-02-20\n3           1198              5172  2012-04-16\n4           2557              3486  2012-05-28\n5           2562              4841  2012-07-04\n6           1965              4069  2012-09-03\n7            874              4604  2012-10-08\n8           1097              5172  2012-11-12\n9            955              1470  2012-11-22\n10           440               573  2012-12-25",
      "text/html": "<div>\n<style scoped>\n    .dataframe tbody tr th:only-of-type {\n        vertical-align: middle;\n    }\n\n    .dataframe tbody tr th {\n        vertical-align: top;\n    }\n\n    .dataframe thead th {\n        text-align: right;\n    }\n</style>\n<table border=\"1\" class=\"dataframe\">\n  <thead>\n    <tr style=\"text-align: right;\">\n      <th></th>\n      <th>total_casual</th>\n      <th>total_registered</th>\n      <th>Holiday</th>\n    </tr>\n  </thead>\n  <tbody>\n    <tr>\n      <th>0</th>\n      <td>244</td>\n      <td>1707</td>\n      <td>2012-01-02</td>\n    </tr>\n    <tr>\n      <th>1</th>\n      <td>217</td>\n      <td>2081</td>\n      <td>2012-01-16</td>\n    </tr>\n    <tr>\n      <th>2</th>\n      <td>502</td>\n      <td>2627</td>\n      <td>2012-02-20</td>\n    </tr>\n    <tr>\n      <th>3</th>\n      <td>1198</td>\n      <td>5172</td>\n      <td>2012-04-16</td>\n    </tr>\n    <tr>\n      <th>4</th>\n      <td>2557</td>\n      <td>3486</td>\n      <td>2012-05-28</td>\n    </tr>\n    <tr>\n      <th>5</th>\n      <td>2562</td>\n      <td>4841</td>\n      <td>2012-07-04</td>\n    </tr>\n    <tr>\n      <th>6</th>\n      <td>1965</td>\n      <td>4069</td>\n      <td>2012-09-03</td>\n    </tr>\n    <tr>\n      <th>7</th>\n      <td>874</td>\n      <td>4604</td>\n      <td>2012-10-08</td>\n    </tr>\n    <tr>\n      <th>8</th>\n      <td>1097</td>\n      <td>5172</td>\n      <td>2012-11-12</td>\n    </tr>\n    <tr>\n      <th>9</th>\n      <td>955</td>\n      <td>1470</td>\n      <td>2012-11-22</td>\n    </tr>\n    <tr>\n      <th>10</th>\n      <td>440</td>\n      <td>573</td>\n      <td>2012-12-25</td>\n    </tr>\n  </tbody>\n</table>\n</div>"
     },
     "execution_count": 3,
     "metadata": {},
     "output_type": "execute_result"
    }
   ],
   "source": [
    "#Then, we can execute SQL query with pandas\n",
    "total_users = pd.read_sql_query('''\n",
    "Select sum(casual) as total_casual, sum(registered) as total_registered, Calendar.dteday as Holiday\n",
    "from bike\n",
    "join Calendar on bike.dteday = Calendar.dteday\n",
    "where holiday = 1\n",
    "group by Calendar.dteday''', conn)\n",
    "\n",
    "total_users"
   ],
   "metadata": {
    "collapsed": false,
    "pycharm": {
     "name": "#%%\n"
    }
   }
  },
  {
   "cell_type": "markdown",
   "source": [
    "B. (4 pts) Considering 24 hours in a day, write a SQL code to calculate the average count of casual users\n",
    "and the average count of registered users for each hour."
   ],
   "metadata": {
    "collapsed": false,
    "pycharm": {
     "name": "#%% md\n"
    }
   }
  },
  {
   "cell_type": "code",
   "execution_count": 4,
   "outputs": [
    {
     "data": {
      "text/plain": "    average_casual  average_registered  hour\n0        10.827397           53.802740     0\n1         7.247253           32.879121     1\n2         5.074380           21.622590     2\n3         2.645070           10.687324     3\n4         1.230556            6.022222     4\n5         1.604396           23.406593     5\n6         4.505495           89.810440     6\n7        11.728022          255.417582     7\n8        24.153846          430.609890     8\n9        37.346154          237.247253     9\n10       56.934066          159.401099    10\n11       73.362637          186.862637    11\n12       84.373626          232.153846    12\n13       89.208219          227.449315    13\n14       93.128767          205.967123    14\n15       92.446575          221.413699    15\n16       90.671233          298.715068    16\n17       89.717808          483.509589    17\n18       72.410959          455.772603    18\n19       57.479452          328.786301    19\n20       42.241096          236.476712    20\n21       32.123288          177.657534    21\n22       25.120548          133.605479    22\n23       16.635616           89.734247    23",
      "text/html": "<div>\n<style scoped>\n    .dataframe tbody tr th:only-of-type {\n        vertical-align: middle;\n    }\n\n    .dataframe tbody tr th {\n        vertical-align: top;\n    }\n\n    .dataframe thead th {\n        text-align: right;\n    }\n</style>\n<table border=\"1\" class=\"dataframe\">\n  <thead>\n    <tr style=\"text-align: right;\">\n      <th></th>\n      <th>average_casual</th>\n      <th>average_registered</th>\n      <th>hour</th>\n    </tr>\n  </thead>\n  <tbody>\n    <tr>\n      <th>0</th>\n      <td>10.827397</td>\n      <td>53.802740</td>\n      <td>0</td>\n    </tr>\n    <tr>\n      <th>1</th>\n      <td>7.247253</td>\n      <td>32.879121</td>\n      <td>1</td>\n    </tr>\n    <tr>\n      <th>2</th>\n      <td>5.074380</td>\n      <td>21.622590</td>\n      <td>2</td>\n    </tr>\n    <tr>\n      <th>3</th>\n      <td>2.645070</td>\n      <td>10.687324</td>\n      <td>3</td>\n    </tr>\n    <tr>\n      <th>4</th>\n      <td>1.230556</td>\n      <td>6.022222</td>\n      <td>4</td>\n    </tr>\n    <tr>\n      <th>5</th>\n      <td>1.604396</td>\n      <td>23.406593</td>\n      <td>5</td>\n    </tr>\n    <tr>\n      <th>6</th>\n      <td>4.505495</td>\n      <td>89.810440</td>\n      <td>6</td>\n    </tr>\n    <tr>\n      <th>7</th>\n      <td>11.728022</td>\n      <td>255.417582</td>\n      <td>7</td>\n    </tr>\n    <tr>\n      <th>8</th>\n      <td>24.153846</td>\n      <td>430.609890</td>\n      <td>8</td>\n    </tr>\n    <tr>\n      <th>9</th>\n      <td>37.346154</td>\n      <td>237.247253</td>\n      <td>9</td>\n    </tr>\n    <tr>\n      <th>10</th>\n      <td>56.934066</td>\n      <td>159.401099</td>\n      <td>10</td>\n    </tr>\n    <tr>\n      <th>11</th>\n      <td>73.362637</td>\n      <td>186.862637</td>\n      <td>11</td>\n    </tr>\n    <tr>\n      <th>12</th>\n      <td>84.373626</td>\n      <td>232.153846</td>\n      <td>12</td>\n    </tr>\n    <tr>\n      <th>13</th>\n      <td>89.208219</td>\n      <td>227.449315</td>\n      <td>13</td>\n    </tr>\n    <tr>\n      <th>14</th>\n      <td>93.128767</td>\n      <td>205.967123</td>\n      <td>14</td>\n    </tr>\n    <tr>\n      <th>15</th>\n      <td>92.446575</td>\n      <td>221.413699</td>\n      <td>15</td>\n    </tr>\n    <tr>\n      <th>16</th>\n      <td>90.671233</td>\n      <td>298.715068</td>\n      <td>16</td>\n    </tr>\n    <tr>\n      <th>17</th>\n      <td>89.717808</td>\n      <td>483.509589</td>\n      <td>17</td>\n    </tr>\n    <tr>\n      <th>18</th>\n      <td>72.410959</td>\n      <td>455.772603</td>\n      <td>18</td>\n    </tr>\n    <tr>\n      <th>19</th>\n      <td>57.479452</td>\n      <td>328.786301</td>\n      <td>19</td>\n    </tr>\n    <tr>\n      <th>20</th>\n      <td>42.241096</td>\n      <td>236.476712</td>\n      <td>20</td>\n    </tr>\n    <tr>\n      <th>21</th>\n      <td>32.123288</td>\n      <td>177.657534</td>\n      <td>21</td>\n    </tr>\n    <tr>\n      <th>22</th>\n      <td>25.120548</td>\n      <td>133.605479</td>\n      <td>22</td>\n    </tr>\n    <tr>\n      <th>23</th>\n      <td>16.635616</td>\n      <td>89.734247</td>\n      <td>23</td>\n    </tr>\n  </tbody>\n</table>\n</div>"
     },
     "execution_count": 4,
     "metadata": {},
     "output_type": "execute_result"
    }
   ],
   "source": [
    "average_users = pd.read_sql_query('''\n",
    "Select avg(casual) as average_casual, avg(registered) as average_registered, hr as hour\n",
    "from bike\n",
    "group by hour''', conn)\n",
    "\n",
    "average_users"
   ],
   "metadata": {
    "collapsed": false,
    "pycharm": {
     "name": "#%%\n"
    }
   }
  },
  {
   "cell_type": "markdown",
   "source": [],
   "metadata": {
    "collapsed": false,
    "pycharm": {
     "name": "#%% md\n"
    }
   }
  },
  {
   "cell_type": "code",
   "execution_count": 5,
   "outputs": [
    {
     "data": {
      "text/plain": "    total_casual        date\n0           3410  2012-05-19\n1           3283  2012-05-27\n2           3252  2012-04-07\n3           3160  2012-09-15\n4           3155  2012-03-17\n5           3031  2012-10-06\n6           2963  2012-06-16\n7           2855  2012-05-26\n8           2846  2012-04-15\n9           2827  2012-08-18\n10          2806  2012-10-20\n11          2795  2012-06-02\n12          2795  2012-04-14\n13          2708  2012-06-09\n14          2704  2012-05-20\n15          2657  2012-06-23\n16          2643  2012-10-27\n17          2634  2012-06-17\n18          2622  2012-05-12\n19          2613  2012-09-02",
      "text/html": "<div>\n<style scoped>\n    .dataframe tbody tr th:only-of-type {\n        vertical-align: middle;\n    }\n\n    .dataframe tbody tr th {\n        vertical-align: top;\n    }\n\n    .dataframe thead th {\n        text-align: right;\n    }\n</style>\n<table border=\"1\" class=\"dataframe\">\n  <thead>\n    <tr style=\"text-align: right;\">\n      <th></th>\n      <th>total_casual</th>\n      <th>date</th>\n    </tr>\n  </thead>\n  <tbody>\n    <tr>\n      <th>0</th>\n      <td>3410</td>\n      <td>2012-05-19</td>\n    </tr>\n    <tr>\n      <th>1</th>\n      <td>3283</td>\n      <td>2012-05-27</td>\n    </tr>\n    <tr>\n      <th>2</th>\n      <td>3252</td>\n      <td>2012-04-07</td>\n    </tr>\n    <tr>\n      <th>3</th>\n      <td>3160</td>\n      <td>2012-09-15</td>\n    </tr>\n    <tr>\n      <th>4</th>\n      <td>3155</td>\n      <td>2012-03-17</td>\n    </tr>\n    <tr>\n      <th>5</th>\n      <td>3031</td>\n      <td>2012-10-06</td>\n    </tr>\n    <tr>\n      <th>6</th>\n      <td>2963</td>\n      <td>2012-06-16</td>\n    </tr>\n    <tr>\n      <th>7</th>\n      <td>2855</td>\n      <td>2012-05-26</td>\n    </tr>\n    <tr>\n      <th>8</th>\n      <td>2846</td>\n      <td>2012-04-15</td>\n    </tr>\n    <tr>\n      <th>9</th>\n      <td>2827</td>\n      <td>2012-08-18</td>\n    </tr>\n    <tr>\n      <th>10</th>\n      <td>2806</td>\n      <td>2012-10-20</td>\n    </tr>\n    <tr>\n      <th>11</th>\n      <td>2795</td>\n      <td>2012-06-02</td>\n    </tr>\n    <tr>\n      <th>12</th>\n      <td>2795</td>\n      <td>2012-04-14</td>\n    </tr>\n    <tr>\n      <th>13</th>\n      <td>2708</td>\n      <td>2012-06-09</td>\n    </tr>\n    <tr>\n      <th>14</th>\n      <td>2704</td>\n      <td>2012-05-20</td>\n    </tr>\n    <tr>\n      <th>15</th>\n      <td>2657</td>\n      <td>2012-06-23</td>\n    </tr>\n    <tr>\n      <th>16</th>\n      <td>2643</td>\n      <td>2012-10-27</td>\n    </tr>\n    <tr>\n      <th>17</th>\n      <td>2634</td>\n      <td>2012-06-17</td>\n    </tr>\n    <tr>\n      <th>18</th>\n      <td>2622</td>\n      <td>2012-05-12</td>\n    </tr>\n    <tr>\n      <th>19</th>\n      <td>2613</td>\n      <td>2012-09-02</td>\n    </tr>\n  </tbody>\n</table>\n</div>"
     },
     "execution_count": 5,
     "metadata": {},
     "output_type": "execute_result"
    }
   ],
   "source": [
    "top_dates = pd.read_sql_query('''\n",
    "Select sum(casual) as total_casual, bike.dteday as date\n",
    "from bike\n",
    "group by date\n",
    "order by total_casual desc\n",
    "limit 20''', conn)\n",
    "\n",
    "top_dates"
   ],
   "metadata": {
    "collapsed": false,
    "pycharm": {
     "name": "#%%\n"
    }
   }
  },
  {
   "cell_type": "markdown",
   "source": [
    "(8 pts) Q2. Work with the real estate dataset, realestate.xlsx or realestate.csv"
   ],
   "metadata": {
    "collapsed": false,
    "pycharm": {
     "name": "#%% md\n"
    }
   }
  },
  {
   "cell_type": "markdown",
   "source": [
    "A. (4 pts) You are asked to predict Sale Price, what are your reasonable choices from the dataset? Please\n",
    "report the total amounts of reasonable choices in the report, write a python code to express all your\n",
    "reasonable choices in regression formula.\n",
    "Note: reasonable choices refer to considering all possible combinations of independent variables."
   ],
   "metadata": {
    "collapsed": false,
    "pycharm": {
     "name": "#%% md\n"
    }
   }
  },
  {
   "cell_type": "code",
   "execution_count": 6,
   "outputs": [
    {
     "data": {
      "text/plain": "     SalePrice   Size  Beds  Baths  Num_Garage  Year Highway Aircondition  \\\n0        360.0  3.032     4      4           2  1972      no          yes   \n1        340.0  2.058     4      2           2  1976      no          yes   \n2        250.0  1.780     4      3           2  1980      no          yes   \n3        205.5  1.638     4      2           2  1963      no          yes   \n4        275.5  2.196     4      3           2  1968      no          yes   \n..         ...    ...   ...    ...         ...   ...     ...          ...   \n516      137.0  1.655     2      1           1  1935      no           no   \n517      185.0  1.944     3      2           2  1939      no          yes   \n518      133.5  1.922     3      1           2  1950      no           no   \n519      124.0  1.480     3      2           2  1953      no          yes   \n520       95.5  1.184     2      1           1  1951      no           no   \n\n    SwimmingPool  \n0             no  \n1             no  \n2             no  \n3             no  \n4             no  \n..           ...  \n516           no  \n517           no  \n518           no  \n519           no  \n520           no  \n\n[521 rows x 9 columns]",
      "text/html": "<div>\n<style scoped>\n    .dataframe tbody tr th:only-of-type {\n        vertical-align: middle;\n    }\n\n    .dataframe tbody tr th {\n        vertical-align: top;\n    }\n\n    .dataframe thead th {\n        text-align: right;\n    }\n</style>\n<table border=\"1\" class=\"dataframe\">\n  <thead>\n    <tr style=\"text-align: right;\">\n      <th></th>\n      <th>SalePrice</th>\n      <th>Size</th>\n      <th>Beds</th>\n      <th>Baths</th>\n      <th>Num_Garage</th>\n      <th>Year</th>\n      <th>Highway</th>\n      <th>Aircondition</th>\n      <th>SwimmingPool</th>\n    </tr>\n  </thead>\n  <tbody>\n    <tr>\n      <th>0</th>\n      <td>360.0</td>\n      <td>3.032</td>\n      <td>4</td>\n      <td>4</td>\n      <td>2</td>\n      <td>1972</td>\n      <td>no</td>\n      <td>yes</td>\n      <td>no</td>\n    </tr>\n    <tr>\n      <th>1</th>\n      <td>340.0</td>\n      <td>2.058</td>\n      <td>4</td>\n      <td>2</td>\n      <td>2</td>\n      <td>1976</td>\n      <td>no</td>\n      <td>yes</td>\n      <td>no</td>\n    </tr>\n    <tr>\n      <th>2</th>\n      <td>250.0</td>\n      <td>1.780</td>\n      <td>4</td>\n      <td>3</td>\n      <td>2</td>\n      <td>1980</td>\n      <td>no</td>\n      <td>yes</td>\n      <td>no</td>\n    </tr>\n    <tr>\n      <th>3</th>\n      <td>205.5</td>\n      <td>1.638</td>\n      <td>4</td>\n      <td>2</td>\n      <td>2</td>\n      <td>1963</td>\n      <td>no</td>\n      <td>yes</td>\n      <td>no</td>\n    </tr>\n    <tr>\n      <th>4</th>\n      <td>275.5</td>\n      <td>2.196</td>\n      <td>4</td>\n      <td>3</td>\n      <td>2</td>\n      <td>1968</td>\n      <td>no</td>\n      <td>yes</td>\n      <td>no</td>\n    </tr>\n    <tr>\n      <th>...</th>\n      <td>...</td>\n      <td>...</td>\n      <td>...</td>\n      <td>...</td>\n      <td>...</td>\n      <td>...</td>\n      <td>...</td>\n      <td>...</td>\n      <td>...</td>\n    </tr>\n    <tr>\n      <th>516</th>\n      <td>137.0</td>\n      <td>1.655</td>\n      <td>2</td>\n      <td>1</td>\n      <td>1</td>\n      <td>1935</td>\n      <td>no</td>\n      <td>no</td>\n      <td>no</td>\n    </tr>\n    <tr>\n      <th>517</th>\n      <td>185.0</td>\n      <td>1.944</td>\n      <td>3</td>\n      <td>2</td>\n      <td>2</td>\n      <td>1939</td>\n      <td>no</td>\n      <td>yes</td>\n      <td>no</td>\n    </tr>\n    <tr>\n      <th>518</th>\n      <td>133.5</td>\n      <td>1.922</td>\n      <td>3</td>\n      <td>1</td>\n      <td>2</td>\n      <td>1950</td>\n      <td>no</td>\n      <td>no</td>\n      <td>no</td>\n    </tr>\n    <tr>\n      <th>519</th>\n      <td>124.0</td>\n      <td>1.480</td>\n      <td>3</td>\n      <td>2</td>\n      <td>2</td>\n      <td>1953</td>\n      <td>no</td>\n      <td>yes</td>\n      <td>no</td>\n    </tr>\n    <tr>\n      <th>520</th>\n      <td>95.5</td>\n      <td>1.184</td>\n      <td>2</td>\n      <td>1</td>\n      <td>1</td>\n      <td>1951</td>\n      <td>no</td>\n      <td>no</td>\n      <td>no</td>\n    </tr>\n  </tbody>\n</table>\n<p>521 rows × 9 columns</p>\n</div>"
     },
     "execution_count": 6,
     "metadata": {},
     "output_type": "execute_result"
    }
   ],
   "source": [
    "#First, we read the file with pandas\n",
    "real_estate = pd.read_csv('realstate.csv')\n",
    "real_estate"
   ],
   "metadata": {
    "collapsed": false,
    "pycharm": {
     "name": "#%%\n"
    }
   }
  },
  {
   "cell_type": "code",
   "execution_count": 7,
   "outputs": [
    {
     "name": "stdout",
     "output_type": "stream",
     "text": [
      "[['Size'], ['Beds'], ['Baths'], ['Num_Garage'], ['Year'], ['Highway'], ['Aircondition'], ['SwimmingPool'], ['Size', 'Beds'], ['Size', 'Baths'], ['Size', 'Num_Garage'], ['Size', 'Year'], ['Size', 'Highway'], ['Size', 'Aircondition'], ['Size', 'SwimmingPool'], ['Beds', 'Baths'], ['Beds', 'Num_Garage'], ['Beds', 'Year'], ['Beds', 'Highway'], ['Beds', 'Aircondition'], ['Beds', 'SwimmingPool'], ['Baths', 'Num_Garage'], ['Baths', 'Year'], ['Baths', 'Highway'], ['Baths', 'Aircondition'], ['Baths', 'SwimmingPool'], ['Num_Garage', 'Year'], ['Num_Garage', 'Highway'], ['Num_Garage', 'Aircondition'], ['Num_Garage', 'SwimmingPool'], ['Year', 'Highway'], ['Year', 'Aircondition'], ['Year', 'SwimmingPool'], ['Highway', 'Aircondition'], ['Highway', 'SwimmingPool'], ['Aircondition', 'SwimmingPool'], ['Size', 'Beds', 'Baths'], ['Size', 'Beds', 'Num_Garage'], ['Size', 'Beds', 'Year'], ['Size', 'Beds', 'Highway'], ['Size', 'Beds', 'Aircondition'], ['Size', 'Beds', 'SwimmingPool'], ['Size', 'Baths', 'Num_Garage'], ['Size', 'Baths', 'Year'], ['Size', 'Baths', 'Highway'], ['Size', 'Baths', 'Aircondition'], ['Size', 'Baths', 'SwimmingPool'], ['Size', 'Num_Garage', 'Year'], ['Size', 'Num_Garage', 'Highway'], ['Size', 'Num_Garage', 'Aircondition'], ['Size', 'Num_Garage', 'SwimmingPool'], ['Size', 'Year', 'Highway'], ['Size', 'Year', 'Aircondition'], ['Size', 'Year', 'SwimmingPool'], ['Size', 'Highway', 'Aircondition'], ['Size', 'Highway', 'SwimmingPool'], ['Size', 'Aircondition', 'SwimmingPool'], ['Beds', 'Baths', 'Num_Garage'], ['Beds', 'Baths', 'Year'], ['Beds', 'Baths', 'Highway'], ['Beds', 'Baths', 'Aircondition'], ['Beds', 'Baths', 'SwimmingPool'], ['Beds', 'Num_Garage', 'Year'], ['Beds', 'Num_Garage', 'Highway'], ['Beds', 'Num_Garage', 'Aircondition'], ['Beds', 'Num_Garage', 'SwimmingPool'], ['Beds', 'Year', 'Highway'], ['Beds', 'Year', 'Aircondition'], ['Beds', 'Year', 'SwimmingPool'], ['Beds', 'Highway', 'Aircondition'], ['Beds', 'Highway', 'SwimmingPool'], ['Beds', 'Aircondition', 'SwimmingPool'], ['Baths', 'Num_Garage', 'Year'], ['Baths', 'Num_Garage', 'Highway'], ['Baths', 'Num_Garage', 'Aircondition'], ['Baths', 'Num_Garage', 'SwimmingPool'], ['Baths', 'Year', 'Highway'], ['Baths', 'Year', 'Aircondition'], ['Baths', 'Year', 'SwimmingPool'], ['Baths', 'Highway', 'Aircondition'], ['Baths', 'Highway', 'SwimmingPool'], ['Baths', 'Aircondition', 'SwimmingPool'], ['Num_Garage', 'Year', 'Highway'], ['Num_Garage', 'Year', 'Aircondition'], ['Num_Garage', 'Year', 'SwimmingPool'], ['Num_Garage', 'Highway', 'Aircondition'], ['Num_Garage', 'Highway', 'SwimmingPool'], ['Num_Garage', 'Aircondition', 'SwimmingPool'], ['Year', 'Highway', 'Aircondition'], ['Year', 'Highway', 'SwimmingPool'], ['Year', 'Aircondition', 'SwimmingPool'], ['Highway', 'Aircondition', 'SwimmingPool'], ['Size', 'Beds', 'Baths', 'Num_Garage'], ['Size', 'Beds', 'Baths', 'Year'], ['Size', 'Beds', 'Baths', 'Highway'], ['Size', 'Beds', 'Baths', 'Aircondition'], ['Size', 'Beds', 'Baths', 'SwimmingPool'], ['Size', 'Beds', 'Num_Garage', 'Year'], ['Size', 'Beds', 'Num_Garage', 'Highway'], ['Size', 'Beds', 'Num_Garage', 'Aircondition'], ['Size', 'Beds', 'Num_Garage', 'SwimmingPool'], ['Size', 'Beds', 'Year', 'Highway'], ['Size', 'Beds', 'Year', 'Aircondition'], ['Size', 'Beds', 'Year', 'SwimmingPool'], ['Size', 'Beds', 'Highway', 'Aircondition'], ['Size', 'Beds', 'Highway', 'SwimmingPool'], ['Size', 'Beds', 'Aircondition', 'SwimmingPool'], ['Size', 'Baths', 'Num_Garage', 'Year'], ['Size', 'Baths', 'Num_Garage', 'Highway'], ['Size', 'Baths', 'Num_Garage', 'Aircondition'], ['Size', 'Baths', 'Num_Garage', 'SwimmingPool'], ['Size', 'Baths', 'Year', 'Highway'], ['Size', 'Baths', 'Year', 'Aircondition'], ['Size', 'Baths', 'Year', 'SwimmingPool'], ['Size', 'Baths', 'Highway', 'Aircondition'], ['Size', 'Baths', 'Highway', 'SwimmingPool'], ['Size', 'Baths', 'Aircondition', 'SwimmingPool'], ['Size', 'Num_Garage', 'Year', 'Highway'], ['Size', 'Num_Garage', 'Year', 'Aircondition'], ['Size', 'Num_Garage', 'Year', 'SwimmingPool'], ['Size', 'Num_Garage', 'Highway', 'Aircondition'], ['Size', 'Num_Garage', 'Highway', 'SwimmingPool'], ['Size', 'Num_Garage', 'Aircondition', 'SwimmingPool'], ['Size', 'Year', 'Highway', 'Aircondition'], ['Size', 'Year', 'Highway', 'SwimmingPool'], ['Size', 'Year', 'Aircondition', 'SwimmingPool'], ['Size', 'Highway', 'Aircondition', 'SwimmingPool'], ['Beds', 'Baths', 'Num_Garage', 'Year'], ['Beds', 'Baths', 'Num_Garage', 'Highway'], ['Beds', 'Baths', 'Num_Garage', 'Aircondition'], ['Beds', 'Baths', 'Num_Garage', 'SwimmingPool'], ['Beds', 'Baths', 'Year', 'Highway'], ['Beds', 'Baths', 'Year', 'Aircondition'], ['Beds', 'Baths', 'Year', 'SwimmingPool'], ['Beds', 'Baths', 'Highway', 'Aircondition'], ['Beds', 'Baths', 'Highway', 'SwimmingPool'], ['Beds', 'Baths', 'Aircondition', 'SwimmingPool'], ['Beds', 'Num_Garage', 'Year', 'Highway'], ['Beds', 'Num_Garage', 'Year', 'Aircondition'], ['Beds', 'Num_Garage', 'Year', 'SwimmingPool'], ['Beds', 'Num_Garage', 'Highway', 'Aircondition'], ['Beds', 'Num_Garage', 'Highway', 'SwimmingPool'], ['Beds', 'Num_Garage', 'Aircondition', 'SwimmingPool'], ['Beds', 'Year', 'Highway', 'Aircondition'], ['Beds', 'Year', 'Highway', 'SwimmingPool'], ['Beds', 'Year', 'Aircondition', 'SwimmingPool'], ['Beds', 'Highway', 'Aircondition', 'SwimmingPool'], ['Baths', 'Num_Garage', 'Year', 'Highway'], ['Baths', 'Num_Garage', 'Year', 'Aircondition'], ['Baths', 'Num_Garage', 'Year', 'SwimmingPool'], ['Baths', 'Num_Garage', 'Highway', 'Aircondition'], ['Baths', 'Num_Garage', 'Highway', 'SwimmingPool'], ['Baths', 'Num_Garage', 'Aircondition', 'SwimmingPool'], ['Baths', 'Year', 'Highway', 'Aircondition'], ['Baths', 'Year', 'Highway', 'SwimmingPool'], ['Baths', 'Year', 'Aircondition', 'SwimmingPool'], ['Baths', 'Highway', 'Aircondition', 'SwimmingPool'], ['Num_Garage', 'Year', 'Highway', 'Aircondition'], ['Num_Garage', 'Year', 'Highway', 'SwimmingPool'], ['Num_Garage', 'Year', 'Aircondition', 'SwimmingPool'], ['Num_Garage', 'Highway', 'Aircondition', 'SwimmingPool'], ['Year', 'Highway', 'Aircondition', 'SwimmingPool'], ['Size', 'Beds', 'Baths', 'Num_Garage', 'Year'], ['Size', 'Beds', 'Baths', 'Num_Garage', 'Highway'], ['Size', 'Beds', 'Baths', 'Num_Garage', 'Aircondition'], ['Size', 'Beds', 'Baths', 'Num_Garage', 'SwimmingPool'], ['Size', 'Beds', 'Baths', 'Year', 'Highway'], ['Size', 'Beds', 'Baths', 'Year', 'Aircondition'], ['Size', 'Beds', 'Baths', 'Year', 'SwimmingPool'], ['Size', 'Beds', 'Baths', 'Highway', 'Aircondition'], ['Size', 'Beds', 'Baths', 'Highway', 'SwimmingPool'], ['Size', 'Beds', 'Baths', 'Aircondition', 'SwimmingPool'], ['Size', 'Beds', 'Num_Garage', 'Year', 'Highway'], ['Size', 'Beds', 'Num_Garage', 'Year', 'Aircondition'], ['Size', 'Beds', 'Num_Garage', 'Year', 'SwimmingPool'], ['Size', 'Beds', 'Num_Garage', 'Highway', 'Aircondition'], ['Size', 'Beds', 'Num_Garage', 'Highway', 'SwimmingPool'], ['Size', 'Beds', 'Num_Garage', 'Aircondition', 'SwimmingPool'], ['Size', 'Beds', 'Year', 'Highway', 'Aircondition'], ['Size', 'Beds', 'Year', 'Highway', 'SwimmingPool'], ['Size', 'Beds', 'Year', 'Aircondition', 'SwimmingPool'], ['Size', 'Beds', 'Highway', 'Aircondition', 'SwimmingPool'], ['Size', 'Baths', 'Num_Garage', 'Year', 'Highway'], ['Size', 'Baths', 'Num_Garage', 'Year', 'Aircondition'], ['Size', 'Baths', 'Num_Garage', 'Year', 'SwimmingPool'], ['Size', 'Baths', 'Num_Garage', 'Highway', 'Aircondition'], ['Size', 'Baths', 'Num_Garage', 'Highway', 'SwimmingPool'], ['Size', 'Baths', 'Num_Garage', 'Aircondition', 'SwimmingPool'], ['Size', 'Baths', 'Year', 'Highway', 'Aircondition'], ['Size', 'Baths', 'Year', 'Highway', 'SwimmingPool'], ['Size', 'Baths', 'Year', 'Aircondition', 'SwimmingPool'], ['Size', 'Baths', 'Highway', 'Aircondition', 'SwimmingPool'], ['Size', 'Num_Garage', 'Year', 'Highway', 'Aircondition'], ['Size', 'Num_Garage', 'Year', 'Highway', 'SwimmingPool'], ['Size', 'Num_Garage', 'Year', 'Aircondition', 'SwimmingPool'], ['Size', 'Num_Garage', 'Highway', 'Aircondition', 'SwimmingPool'], ['Size', 'Year', 'Highway', 'Aircondition', 'SwimmingPool'], ['Beds', 'Baths', 'Num_Garage', 'Year', 'Highway'], ['Beds', 'Baths', 'Num_Garage', 'Year', 'Aircondition'], ['Beds', 'Baths', 'Num_Garage', 'Year', 'SwimmingPool'], ['Beds', 'Baths', 'Num_Garage', 'Highway', 'Aircondition'], ['Beds', 'Baths', 'Num_Garage', 'Highway', 'SwimmingPool'], ['Beds', 'Baths', 'Num_Garage', 'Aircondition', 'SwimmingPool'], ['Beds', 'Baths', 'Year', 'Highway', 'Aircondition'], ['Beds', 'Baths', 'Year', 'Highway', 'SwimmingPool'], ['Beds', 'Baths', 'Year', 'Aircondition', 'SwimmingPool'], ['Beds', 'Baths', 'Highway', 'Aircondition', 'SwimmingPool'], ['Beds', 'Num_Garage', 'Year', 'Highway', 'Aircondition'], ['Beds', 'Num_Garage', 'Year', 'Highway', 'SwimmingPool'], ['Beds', 'Num_Garage', 'Year', 'Aircondition', 'SwimmingPool'], ['Beds', 'Num_Garage', 'Highway', 'Aircondition', 'SwimmingPool'], ['Beds', 'Year', 'Highway', 'Aircondition', 'SwimmingPool'], ['Baths', 'Num_Garage', 'Year', 'Highway', 'Aircondition'], ['Baths', 'Num_Garage', 'Year', 'Highway', 'SwimmingPool'], ['Baths', 'Num_Garage', 'Year', 'Aircondition', 'SwimmingPool'], ['Baths', 'Num_Garage', 'Highway', 'Aircondition', 'SwimmingPool'], ['Baths', 'Year', 'Highway', 'Aircondition', 'SwimmingPool'], ['Num_Garage', 'Year', 'Highway', 'Aircondition', 'SwimmingPool'], ['Size', 'Beds', 'Baths', 'Num_Garage', 'Year', 'Highway'], ['Size', 'Beds', 'Baths', 'Num_Garage', 'Year', 'Aircondition'], ['Size', 'Beds', 'Baths', 'Num_Garage', 'Year', 'SwimmingPool'], ['Size', 'Beds', 'Baths', 'Num_Garage', 'Highway', 'Aircondition'], ['Size', 'Beds', 'Baths', 'Num_Garage', 'Highway', 'SwimmingPool'], ['Size', 'Beds', 'Baths', 'Num_Garage', 'Aircondition', 'SwimmingPool'], ['Size', 'Beds', 'Baths', 'Year', 'Highway', 'Aircondition'], ['Size', 'Beds', 'Baths', 'Year', 'Highway', 'SwimmingPool'], ['Size', 'Beds', 'Baths', 'Year', 'Aircondition', 'SwimmingPool'], ['Size', 'Beds', 'Baths', 'Highway', 'Aircondition', 'SwimmingPool'], ['Size', 'Beds', 'Num_Garage', 'Year', 'Highway', 'Aircondition'], ['Size', 'Beds', 'Num_Garage', 'Year', 'Highway', 'SwimmingPool'], ['Size', 'Beds', 'Num_Garage', 'Year', 'Aircondition', 'SwimmingPool'], ['Size', 'Beds', 'Num_Garage', 'Highway', 'Aircondition', 'SwimmingPool'], ['Size', 'Beds', 'Year', 'Highway', 'Aircondition', 'SwimmingPool'], ['Size', 'Baths', 'Num_Garage', 'Year', 'Highway', 'Aircondition'], ['Size', 'Baths', 'Num_Garage', 'Year', 'Highway', 'SwimmingPool'], ['Size', 'Baths', 'Num_Garage', 'Year', 'Aircondition', 'SwimmingPool'], ['Size', 'Baths', 'Num_Garage', 'Highway', 'Aircondition', 'SwimmingPool'], ['Size', 'Baths', 'Year', 'Highway', 'Aircondition', 'SwimmingPool'], ['Size', 'Num_Garage', 'Year', 'Highway', 'Aircondition', 'SwimmingPool'], ['Beds', 'Baths', 'Num_Garage', 'Year', 'Highway', 'Aircondition'], ['Beds', 'Baths', 'Num_Garage', 'Year', 'Highway', 'SwimmingPool'], ['Beds', 'Baths', 'Num_Garage', 'Year', 'Aircondition', 'SwimmingPool'], ['Beds', 'Baths', 'Num_Garage', 'Highway', 'Aircondition', 'SwimmingPool'], ['Beds', 'Baths', 'Year', 'Highway', 'Aircondition', 'SwimmingPool'], ['Beds', 'Num_Garage', 'Year', 'Highway', 'Aircondition', 'SwimmingPool'], ['Baths', 'Num_Garage', 'Year', 'Highway', 'Aircondition', 'SwimmingPool'], ['Size', 'Beds', 'Baths', 'Num_Garage', 'Year', 'Highway', 'Aircondition'], ['Size', 'Beds', 'Baths', 'Num_Garage', 'Year', 'Highway', 'SwimmingPool'], ['Size', 'Beds', 'Baths', 'Num_Garage', 'Year', 'Aircondition', 'SwimmingPool'], ['Size', 'Beds', 'Baths', 'Num_Garage', 'Highway', 'Aircondition', 'SwimmingPool'], ['Size', 'Beds', 'Baths', 'Year', 'Highway', 'Aircondition', 'SwimmingPool'], ['Size', 'Beds', 'Num_Garage', 'Year', 'Highway', 'Aircondition', 'SwimmingPool'], ['Size', 'Baths', 'Num_Garage', 'Year', 'Highway', 'Aircondition', 'SwimmingPool'], ['Beds', 'Baths', 'Num_Garage', 'Year', 'Highway', 'Aircondition', 'SwimmingPool'], ['Size', 'Beds', 'Baths', 'Num_Garage', 'Year', 'Highway', 'Aircondition', 'SwimmingPool']]\n"
     ]
    },
    {
     "data": {
      "text/plain": "255"
     },
     "execution_count": 7,
     "metadata": {},
     "output_type": "execute_result"
    }
   ],
   "source": [
    "#Then, we can list all possible combinations of features\n",
    "\n",
    "feature = ['Size', 'Beds', 'Baths', 'Num_Garage', 'Year', 'Highway', 'Aircondition', 'SwimmingPool']\n",
    "all_combinations = []\n",
    "\n",
    "for i in range(1,len(feature)+1):\n",
    "    oc = combinations(feature, i)\n",
    "    for c in oc:\n",
    "        all_combinations.append(list(c))\n",
    "\n",
    "print(all_combinations)\n",
    "len(all_combinations)"
   ],
   "metadata": {
    "collapsed": false,
    "pycharm": {
     "name": "#%%\n"
    }
   }
  },
  {
   "cell_type": "code",
   "execution_count": 8,
   "outputs": [],
   "source": [
    "#As we can see, there are 255 reasonable choices of possible combinations of independent variables\n",
    "#2^8-1 = 255"
   ],
   "metadata": {
    "collapsed": false,
    "pycharm": {
     "name": "#%%\n"
    }
   }
  },
  {
   "cell_type": "markdown",
   "source": [
    "B. (4 pts) To avoid overfitting, we would set some constraints when training the model. Please write a\n",
    "python code to find the best linear regression with the following two constraints and export the\n",
    "regression summary to Q2_b.txt:\n",
    "1. Highway should be one of the independent variables.\n",
    "2. The total number of independent variables of the model should not exceed 4"
   ],
   "metadata": {
    "collapsed": false,
    "pycharm": {
     "name": "#%% md\n"
    }
   }
  },
  {
   "cell_type": "code",
   "execution_count": 9,
   "outputs": [
    {
     "data": {
      "text/plain": "     SalePrice   Size  Beds  Baths  Num_Garage  Year  Highway  Aircondition  \\\n0        360.0  3.032     4      4           2  1972        0             1   \n1        340.0  2.058     4      2           2  1976        0             1   \n2        250.0  1.780     4      3           2  1980        0             1   \n3        205.5  1.638     4      2           2  1963        0             1   \n4        275.5  2.196     4      3           2  1968        0             1   \n..         ...    ...   ...    ...         ...   ...      ...           ...   \n516      137.0  1.655     2      1           1  1935        0             0   \n517      185.0  1.944     3      2           2  1939        0             1   \n518      133.5  1.922     3      1           2  1950        0             0   \n519      124.0  1.480     3      2           2  1953        0             1   \n520       95.5  1.184     2      1           1  1951        0             0   \n\n     SwimmingPool  \n0               0  \n1               0  \n2               0  \n3               0  \n4               0  \n..            ...  \n516             0  \n517             0  \n518             0  \n519             0  \n520             0  \n\n[521 rows x 9 columns]",
      "text/html": "<div>\n<style scoped>\n    .dataframe tbody tr th:only-of-type {\n        vertical-align: middle;\n    }\n\n    .dataframe tbody tr th {\n        vertical-align: top;\n    }\n\n    .dataframe thead th {\n        text-align: right;\n    }\n</style>\n<table border=\"1\" class=\"dataframe\">\n  <thead>\n    <tr style=\"text-align: right;\">\n      <th></th>\n      <th>SalePrice</th>\n      <th>Size</th>\n      <th>Beds</th>\n      <th>Baths</th>\n      <th>Num_Garage</th>\n      <th>Year</th>\n      <th>Highway</th>\n      <th>Aircondition</th>\n      <th>SwimmingPool</th>\n    </tr>\n  </thead>\n  <tbody>\n    <tr>\n      <th>0</th>\n      <td>360.0</td>\n      <td>3.032</td>\n      <td>4</td>\n      <td>4</td>\n      <td>2</td>\n      <td>1972</td>\n      <td>0</td>\n      <td>1</td>\n      <td>0</td>\n    </tr>\n    <tr>\n      <th>1</th>\n      <td>340.0</td>\n      <td>2.058</td>\n      <td>4</td>\n      <td>2</td>\n      <td>2</td>\n      <td>1976</td>\n      <td>0</td>\n      <td>1</td>\n      <td>0</td>\n    </tr>\n    <tr>\n      <th>2</th>\n      <td>250.0</td>\n      <td>1.780</td>\n      <td>4</td>\n      <td>3</td>\n      <td>2</td>\n      <td>1980</td>\n      <td>0</td>\n      <td>1</td>\n      <td>0</td>\n    </tr>\n    <tr>\n      <th>3</th>\n      <td>205.5</td>\n      <td>1.638</td>\n      <td>4</td>\n      <td>2</td>\n      <td>2</td>\n      <td>1963</td>\n      <td>0</td>\n      <td>1</td>\n      <td>0</td>\n    </tr>\n    <tr>\n      <th>4</th>\n      <td>275.5</td>\n      <td>2.196</td>\n      <td>4</td>\n      <td>3</td>\n      <td>2</td>\n      <td>1968</td>\n      <td>0</td>\n      <td>1</td>\n      <td>0</td>\n    </tr>\n    <tr>\n      <th>...</th>\n      <td>...</td>\n      <td>...</td>\n      <td>...</td>\n      <td>...</td>\n      <td>...</td>\n      <td>...</td>\n      <td>...</td>\n      <td>...</td>\n      <td>...</td>\n    </tr>\n    <tr>\n      <th>516</th>\n      <td>137.0</td>\n      <td>1.655</td>\n      <td>2</td>\n      <td>1</td>\n      <td>1</td>\n      <td>1935</td>\n      <td>0</td>\n      <td>0</td>\n      <td>0</td>\n    </tr>\n    <tr>\n      <th>517</th>\n      <td>185.0</td>\n      <td>1.944</td>\n      <td>3</td>\n      <td>2</td>\n      <td>2</td>\n      <td>1939</td>\n      <td>0</td>\n      <td>1</td>\n      <td>0</td>\n    </tr>\n    <tr>\n      <th>518</th>\n      <td>133.5</td>\n      <td>1.922</td>\n      <td>3</td>\n      <td>1</td>\n      <td>2</td>\n      <td>1950</td>\n      <td>0</td>\n      <td>0</td>\n      <td>0</td>\n    </tr>\n    <tr>\n      <th>519</th>\n      <td>124.0</td>\n      <td>1.480</td>\n      <td>3</td>\n      <td>2</td>\n      <td>2</td>\n      <td>1953</td>\n      <td>0</td>\n      <td>1</td>\n      <td>0</td>\n    </tr>\n    <tr>\n      <th>520</th>\n      <td>95.5</td>\n      <td>1.184</td>\n      <td>2</td>\n      <td>1</td>\n      <td>1</td>\n      <td>1951</td>\n      <td>0</td>\n      <td>0</td>\n      <td>0</td>\n    </tr>\n  </tbody>\n</table>\n<p>521 rows × 9 columns</p>\n</div>"
     },
     "execution_count": 9,
     "metadata": {},
     "output_type": "execute_result"
    }
   ],
   "source": [
    "#We first need to change the yes/no value of some features to binary format 0/1 in order to make our linear regression\n",
    "real_estate.Highway.replace(('yes', 'no'), (1,0), inplace=True)\n",
    "real_estate.Aircondition.replace(('yes', 'no'), (1,0), inplace=True)\n",
    "real_estate.SwimmingPool.replace(('yes', 'no'), (1,0), inplace=True)\n",
    "\n",
    "real_estate"
   ],
   "metadata": {
    "collapsed": false,
    "pycharm": {
     "name": "#%%\n"
    }
   }
  },
  {
   "cell_type": "code",
   "execution_count": 10,
   "outputs": [
    {
     "name": "stdout",
     "output_type": "stream",
     "text": [
      "[['Size', 'Highway'], ['Beds', 'Highway'], ['Baths', 'Highway'], ['Num_Garage', 'Highway'], ['Year', 'Highway'], ['Highway', 'Aircondition'], ['Highway', 'SwimmingPool'], ['Size', 'Beds', 'Highway'], ['Size', 'Baths', 'Highway'], ['Size', 'Num_Garage', 'Highway'], ['Size', 'Year', 'Highway'], ['Size', 'Highway', 'Aircondition'], ['Size', 'Highway', 'SwimmingPool'], ['Beds', 'Baths', 'Highway'], ['Beds', 'Num_Garage', 'Highway'], ['Beds', 'Year', 'Highway'], ['Beds', 'Highway', 'Aircondition'], ['Beds', 'Highway', 'SwimmingPool'], ['Baths', 'Num_Garage', 'Highway'], ['Baths', 'Year', 'Highway'], ['Baths', 'Highway', 'Aircondition'], ['Baths', 'Highway', 'SwimmingPool'], ['Num_Garage', 'Year', 'Highway'], ['Num_Garage', 'Highway', 'Aircondition'], ['Num_Garage', 'Highway', 'SwimmingPool'], ['Year', 'Highway', 'Aircondition'], ['Year', 'Highway', 'SwimmingPool'], ['Highway', 'Aircondition', 'SwimmingPool'], ['Size', 'Beds', 'Baths', 'Highway'], ['Size', 'Beds', 'Num_Garage', 'Highway'], ['Size', 'Beds', 'Year', 'Highway'], ['Size', 'Beds', 'Highway', 'Aircondition'], ['Size', 'Beds', 'Highway', 'SwimmingPool'], ['Size', 'Baths', 'Num_Garage', 'Highway'], ['Size', 'Baths', 'Year', 'Highway'], ['Size', 'Baths', 'Highway', 'Aircondition'], ['Size', 'Baths', 'Highway', 'SwimmingPool'], ['Size', 'Num_Garage', 'Year', 'Highway'], ['Size', 'Num_Garage', 'Highway', 'Aircondition'], ['Size', 'Num_Garage', 'Highway', 'SwimmingPool'], ['Size', 'Year', 'Highway', 'Aircondition'], ['Size', 'Year', 'Highway', 'SwimmingPool'], ['Size', 'Highway', 'Aircondition', 'SwimmingPool'], ['Beds', 'Baths', 'Num_Garage', 'Highway'], ['Beds', 'Baths', 'Year', 'Highway'], ['Beds', 'Baths', 'Highway', 'Aircondition'], ['Beds', 'Baths', 'Highway', 'SwimmingPool'], ['Beds', 'Num_Garage', 'Year', 'Highway'], ['Beds', 'Num_Garage', 'Highway', 'Aircondition'], ['Beds', 'Num_Garage', 'Highway', 'SwimmingPool'], ['Beds', 'Year', 'Highway', 'Aircondition'], ['Beds', 'Year', 'Highway', 'SwimmingPool'], ['Beds', 'Highway', 'Aircondition', 'SwimmingPool'], ['Baths', 'Num_Garage', 'Year', 'Highway'], ['Baths', 'Num_Garage', 'Highway', 'Aircondition'], ['Baths', 'Num_Garage', 'Highway', 'SwimmingPool'], ['Baths', 'Year', 'Highway', 'Aircondition'], ['Baths', 'Year', 'Highway', 'SwimmingPool'], ['Baths', 'Highway', 'Aircondition', 'SwimmingPool'], ['Num_Garage', 'Year', 'Highway', 'Aircondition'], ['Num_Garage', 'Year', 'Highway', 'SwimmingPool'], ['Num_Garage', 'Highway', 'Aircondition', 'SwimmingPool'], ['Year', 'Highway', 'Aircondition', 'SwimmingPool']]\n"
     ]
    },
    {
     "data": {
      "text/plain": "63"
     },
     "execution_count": 10,
     "metadata": {},
     "output_type": "execute_result"
    }
   ],
   "source": [
    "\n",
    "new_list = []\n",
    "\n",
    "for list in all_combinations:\n",
    "    if 1 < len(list) <= 4 and 'Highway' in list:\n",
    "        new_list.append(list)\n",
    "\n",
    "print(new_list)\n",
    "len(new_list)"
   ],
   "metadata": {
    "collapsed": false,
    "pycharm": {
     "name": "#%%\n"
    }
   }
  },
  {
   "cell_type": "code",
   "execution_count": 11,
   "outputs": [
    {
     "name": "stdout",
     "output_type": "stream",
     "text": [
      "0.7322884866330394 ['Size', 'Num_Garage', 'Year', 'Highway']\n"
     ]
    }
   ],
   "source": [
    "#We then fit linear regression for all possible variable combinations that meet the two requirements\n",
    "regression_possibility = []\n",
    "\n",
    "for i in new_list:\n",
    "    x = real_estate[i]\n",
    "    y = real_estate['SalePrice']\n",
    "    model = smf.ols(formula = 'y~x', data = real_estate).fit()\n",
    "    regression_possibility.append(model.rsquared)\n",
    "\n",
    "print(max(regression_possibility), new_list[regression_possibility.index(max(regression_possibility))])"
   ],
   "metadata": {
    "collapsed": false,
    "pycharm": {
     "name": "#%%\n"
    }
   }
  },
  {
   "cell_type": "code",
   "execution_count": 12,
   "outputs": [
    {
     "data": {
      "text/plain": "<class 'statsmodels.iolib.summary.Summary'>\n\"\"\"\n                            OLS Regression Results                            \n==============================================================================\nDep. Variable:                      y   R-squared:                       0.732\nModel:                            OLS   Adj. R-squared:                  0.730\nMethod:                 Least Squares   F-statistic:                     352.9\nDate:                Tue, 26 Apr 2022   Prob (F-statistic):          4.14e-146\nTime:                        21:02:26   Log-Likelihood:                -2961.1\nNo. Observations:                 521   AIC:                             5932.\nDf Residuals:                     516   BIC:                             5954.\nDf Model:                           4                                         \nCovariance Type:            nonrobust                                         \n==============================================================================\n                 coef    std err          t      P>|t|      [0.025      0.975]\n------------------------------------------------------------------------------\nIntercept  -3155.9269    402.035     -7.850      0.000   -3945.755   -2366.099\nx[0]         128.4870      5.421     23.703      0.000     117.838     139.136\nx[1]          26.9101      5.943      4.528      0.000      15.234      38.587\nx[2]           1.5694      0.208      7.551      0.000       1.161       1.978\nx[3]         -14.6938     21.866     -0.672      0.502     -57.651      28.264\n==============================================================================\nOmnibus:                      154.452   Durbin-Watson:                   1.347\nProb(Omnibus):                  0.000   Jarque-Bera (JB):              592.502\nSkew:                           1.310   Prob(JB):                    2.19e-129\nKurtosis:                       7.520   Cond. No.                     2.53e+05\n==============================================================================\n\nNotes:\n[1] Standard Errors assume that the covariance matrix of the errors is correctly specified.\n[2] The condition number is large, 2.53e+05. This might indicate that there are\nstrong multicollinearity or other numerical problems.\n\"\"\"",
      "text/html": "<table class=\"simpletable\">\n<caption>OLS Regression Results</caption>\n<tr>\n  <th>Dep. Variable:</th>            <td>y</td>        <th>  R-squared:         </th> <td>   0.732</td> \n</tr>\n<tr>\n  <th>Model:</th>                   <td>OLS</td>       <th>  Adj. R-squared:    </th> <td>   0.730</td> \n</tr>\n<tr>\n  <th>Method:</th>             <td>Least Squares</td>  <th>  F-statistic:       </th> <td>   352.9</td> \n</tr>\n<tr>\n  <th>Date:</th>             <td>Tue, 26 Apr 2022</td> <th>  Prob (F-statistic):</th> <td>4.14e-146</td>\n</tr>\n<tr>\n  <th>Time:</th>                 <td>21:02:26</td>     <th>  Log-Likelihood:    </th> <td> -2961.1</td> \n</tr>\n<tr>\n  <th>No. Observations:</th>      <td>   521</td>      <th>  AIC:               </th> <td>   5932.</td> \n</tr>\n<tr>\n  <th>Df Residuals:</th>          <td>   516</td>      <th>  BIC:               </th> <td>   5954.</td> \n</tr>\n<tr>\n  <th>Df Model:</th>              <td>     4</td>      <th>                     </th>     <td> </td>    \n</tr>\n<tr>\n  <th>Covariance Type:</th>      <td>nonrobust</td>    <th>                     </th>     <td> </td>    \n</tr>\n</table>\n<table class=\"simpletable\">\n<tr>\n      <td></td>         <th>coef</th>     <th>std err</th>      <th>t</th>      <th>P>|t|</th>  <th>[0.025</th>    <th>0.975]</th>  \n</tr>\n<tr>\n  <th>Intercept</th> <td>-3155.9269</td> <td>  402.035</td> <td>   -7.850</td> <td> 0.000</td> <td>-3945.755</td> <td>-2366.099</td>\n</tr>\n<tr>\n  <th>x[0]</th>      <td>  128.4870</td> <td>    5.421</td> <td>   23.703</td> <td> 0.000</td> <td>  117.838</td> <td>  139.136</td>\n</tr>\n<tr>\n  <th>x[1]</th>      <td>   26.9101</td> <td>    5.943</td> <td>    4.528</td> <td> 0.000</td> <td>   15.234</td> <td>   38.587</td>\n</tr>\n<tr>\n  <th>x[2]</th>      <td>    1.5694</td> <td>    0.208</td> <td>    7.551</td> <td> 0.000</td> <td>    1.161</td> <td>    1.978</td>\n</tr>\n<tr>\n  <th>x[3]</th>      <td>  -14.6938</td> <td>   21.866</td> <td>   -0.672</td> <td> 0.502</td> <td>  -57.651</td> <td>   28.264</td>\n</tr>\n</table>\n<table class=\"simpletable\">\n<tr>\n  <th>Omnibus:</th>       <td>154.452</td> <th>  Durbin-Watson:     </th> <td>   1.347</td> \n</tr>\n<tr>\n  <th>Prob(Omnibus):</th> <td> 0.000</td>  <th>  Jarque-Bera (JB):  </th> <td> 592.502</td> \n</tr>\n<tr>\n  <th>Skew:</th>          <td> 1.310</td>  <th>  Prob(JB):          </th> <td>2.19e-129</td>\n</tr>\n<tr>\n  <th>Kurtosis:</th>      <td> 7.520</td>  <th>  Cond. No.          </th> <td>2.53e+05</td> \n</tr>\n</table><br/><br/>Notes:<br/>[1] Standard Errors assume that the covariance matrix of the errors is correctly specified.<br/>[2] The condition number is large, 2.53e+05. This might indicate that there are<br/>strong multicollinearity or other numerical problems."
     },
     "execution_count": 12,
     "metadata": {},
     "output_type": "execute_result"
    }
   ],
   "source": [
    "#We describe statistics about the regression\n",
    "x = real_estate[['Size', 'Num_Garage', 'Year', 'Highway']]\n",
    "y = real_estate['SalePrice']\n",
    "model = smf.ols(formula = 'y~x', data = real_estate).fit()\n",
    "\n",
    "ols_results = model.summary()\n",
    "ols_results"
   ],
   "metadata": {
    "collapsed": false,
    "pycharm": {
     "name": "#%%\n"
    }
   }
  },
  {
   "cell_type": "code",
   "execution_count": 13,
   "outputs": [],
   "source": [
    "#Export the summary\n",
    "with open('Q2_b.txt', 'w') as Q2_b:\n",
    "    Q2_b.write(ols_results.as_text())"
   ],
   "metadata": {
    "collapsed": false,
    "pycharm": {
     "name": "#%%\n"
    }
   }
  }
 ],
 "metadata": {
  "kernelspec": {
   "display_name": "Python 3",
   "language": "python",
   "name": "python3"
  },
  "language_info": {
   "codemirror_mode": {
    "name": "ipython",
    "version": 2
   },
   "file_extension": ".py",
   "mimetype": "text/x-python",
   "name": "python",
   "nbconvert_exporter": "python",
   "pygments_lexer": "ipython2",
   "version": "2.7.6"
  }
 },
 "nbformat": 4,
 "nbformat_minor": 0
}